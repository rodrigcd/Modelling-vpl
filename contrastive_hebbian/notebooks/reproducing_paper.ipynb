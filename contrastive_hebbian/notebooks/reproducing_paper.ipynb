{
 "cells": [
  {
   "cell_type": "code",
   "id": "33ef9a49-4dd3-4a94-bb6c-3ecf3e13ee3f",
   "metadata": {
    "ExecuteTime": {
     "end_time": "2024-08-19T21:34:30.817259Z",
     "start_time": "2024-08-19T21:34:30.072873Z"
    }
   },
   "source": [
    "import matplotlib.pyplot as plt\n",
    "import numpy as np\n",
    "from tqdm import tqdm\n",
    "\n",
    "from vpl_model.networks import ContrastiveNet\n",
    "from vpl_model.tasks import SemanticTask\n"
   ],
   "outputs": [],
   "execution_count": 1
  },
  {
   "cell_type": "code",
   "id": "c3423fc7-8c25-4c4f-b773-18999f7c7eae",
   "metadata": {
    "ExecuteTime": {
     "end_time": "2024-08-19T21:34:30.822960Z",
     "start_time": "2024-08-19T21:34:30.820799Z"
    }
   },
   "source": [
    "np.random.seed(0)"
   ],
   "outputs": [],
   "execution_count": 2
  },
  {
   "cell_type": "markdown",
   "id": "69e8c0d4-45f7-4c01-b742-31bc842112eb",
   "metadata": {},
   "source": [
    "# Testing all regimes for $\\gamma$ and $\\eta$"
   ]
  },
  {
   "cell_type": "code",
   "id": "165b108c-263c-4bf6-aa4f-fe4f04a73dc3",
   "metadata": {
    "ExecuteTime": {
     "end_time": "2024-08-19T21:34:30.869309Z",
     "start_time": "2024-08-19T21:34:30.866206Z"
    }
   },
   "source": [
    "hidden_dim = 32\n",
    "hierarchy_depth = 4\n",
    "learning_rate = 0.01\n",
    "weight_scale = 1e-10\n",
    "batch_size = 2048\n",
    "test_epochs = 10\n",
    "epochs = 10000\n",
    "run_test = False\n",
    "\n",
    "all_regimes = {\"contrastive_hebb\": {\"gamma\": 1.0, \"eta\": 0.0},\n",
    "               \"gradient_descent\": {\"gamma\": 0.0, \"eta\": 0.0},\n",
    "               \"quasi_predictive\": {\"gamma\": -1.0, \"eta\": 0.0},\n",
    "               \"hebbian\": {\"gamma\": 0, \"eta\": 1.0},\n",
    "               \"anti_hebbian\": {\"gamma\": 0, \"eta\": -1.0},}"
   ],
   "outputs": [],
   "execution_count": 3
  },
  {
   "cell_type": "code",
   "id": "35ffbc0f-f84d-4632-8d2c-e9198895dc98",
   "metadata": {
    "ExecuteTime": {
     "end_time": "2024-08-19T21:34:30.917232Z",
     "start_time": "2024-08-19T21:34:30.912119Z"
    }
   },
   "source": [
    "data = SemanticTask(batch_size=batch_size, h_levels=hierarchy_depth)\n",
    "\n",
    "W1_0 = np.random.normal(scale = weight_scale, size=(hidden_dim, data.input_dim))\n",
    "W2_0 = np.random.normal(scale = weight_scale, size=(data.output_dim, hidden_dim))"
   ],
   "outputs": [],
   "execution_count": 4
  },
  {
   "cell_type": "markdown",
   "id": "7509a645-ed3f-42b1-9356-d2f70be44a73",
   "metadata": {},
   "source": [
    "## Testing code"
   ]
  },
  {
   "cell_type": "code",
   "id": "a5c7a42a-7ad8-49a7-839d-22f02ad51a93",
   "metadata": {
    "ExecuteTime": {
     "end_time": "2024-08-19T21:34:30.962911Z",
     "start_time": "2024-08-19T21:34:30.960104Z"
    }
   },
   "source": [
    "if run_test:\n",
    "    for key, values in all_regimes.items():\n",
    "        net = ContrastiveNet(W1_0=W1_0, W2_0=W2_0, gamma=values[\"gamma\"], eta=values[\"eta\"], learning_rate=learning_rate)\n",
    "        for i in range(test_epochs):\n",
    "            x, y = data.full_batch()\n",
    "            h_ff, y_hat = net.forward(x)\n",
    "            # print(h_ff.shape, y_hat.shape)\n",
    "            net.update(x, y, y_hat, h_ff)\n",
    "            net.loss(y_hat, y)\n",
    "        print(key, \"works fine :)\")"
   ],
   "outputs": [],
   "execution_count": 5
  },
  {
   "cell_type": "markdown",
   "id": "cf125a4e-5755-4708-b42f-22fe3a8abc68",
   "metadata": {},
   "source": [
    "# Reproducing fig 3 and 4"
   ]
  },
  {
   "cell_type": "code",
   "id": "0fd904cd-af77-4209-85a8-f5d74f0a9475",
   "metadata": {
    "ExecuteTime": {
     "end_time": "2024-08-19T21:34:31.008746Z",
     "start_time": "2024-08-19T21:34:31.006659Z"
    }
   },
   "source": [
    "test_gammas = [-1.0, -0.5, -0.1, 0, 0.1, 0.5, 1.0]\n",
    "test_etas = [-0.1, -0.05, -0.01, 0, 0.01, 0.05, 0.1]"
   ],
   "outputs": [],
   "execution_count": 6
  },
  {
   "cell_type": "code",
   "id": "9567c509-cc50-4dbc-81ca-4ab4e1a306bd",
   "metadata": {
    "ExecuteTime": {
     "end_time": "2024-08-19T21:36:40.164629Z",
     "start_time": "2024-08-19T21:34:31.052055Z"
    }
   },
   "source": [
    "gamma_results = []\n",
    "\n",
    "for j, gamma in enumerate(test_gammas):\n",
    "    net = ContrastiveNet(W1_0=W1_0, W2_0=W2_0, gamma=gamma, eta=0.0, learning_rate=learning_rate, lr_W2_W1=1.0)\n",
    "    training_loss = []\n",
    "    for i in tqdm(range(epochs)):\n",
    "        x, y = data.full_batch()\n",
    "        h_ff, y_hat = net.forward(x)\n",
    "        net.update(x, y, y_hat, h_ff)\n",
    "        training_loss.append(net.loss(y_hat, y))\n",
    "    MDS = h_ff[:, :, 0] @ h_ff[:, :, 0].T/np.linalg.norm(h_ff[:, :, 0])\n",
    "    gamma_results.append({\"MDS\": MDS, \"loss\": training_loss})"
   ],
   "outputs": [
    {
     "name": "stderr",
     "output_type": "stream",
     "text": [
      "CUDA backend failed to initialize: Found cuDNN version 8201, but JAX was built against version 8906, which is newer. The copy of cuDNN that is installed must be at least as new as the version against which JAX was built. (Set TF_CPP_MIN_LOG_LEVEL=0 and rerun for more info.)\n",
      "100%|██████████| 10000/10000 [00:18<00:00, 534.85it/s]\n",
      "100%|██████████| 10000/10000 [00:18<00:00, 541.63it/s]\n",
      "100%|██████████| 10000/10000 [00:18<00:00, 541.06it/s]\n",
      "100%|██████████| 10000/10000 [00:18<00:00, 534.47it/s]\n",
      "100%|██████████| 10000/10000 [00:18<00:00, 548.34it/s]\n",
      "100%|██████████| 10000/10000 [00:18<00:00, 549.78it/s]\n",
      "100%|██████████| 10000/10000 [00:18<00:00, 548.14it/s]\n"
     ]
    }
   ],
   "execution_count": 7
  },
  {
   "cell_type": "code",
   "id": "02f66d68-1d9a-4d91-8a6d-662de1b64b67",
   "metadata": {
    "ExecuteTime": {
     "end_time": "2024-08-19T21:38:48.776931Z",
     "start_time": "2024-08-19T21:36:40.183691Z"
    }
   },
   "source": [
    "eta_results = []\n",
    "\n",
    "for j, eta in enumerate(test_etas):\n",
    "    net = ContrastiveNet(W1_0=W1_0, W2_0=W2_0, gamma=0.0, eta=eta, learning_rate=learning_rate, lr_W2_W1=1.0)\n",
    "    training_loss = []\n",
    "    for i in tqdm(range(epochs)):\n",
    "        x, y = data.full_batch()\n",
    "        h_ff, y_hat = net.forward(x)\n",
    "        net.update(x, y, y_hat, h_ff)\n",
    "        training_loss.append(net.loss(y_hat, y))\n",
    "    MDS = h_ff[:, :, 0] @ h_ff[:, :, 0].T/np.linalg.norm(h_ff[:, :, 0])\n",
    "    eta_results.append({\"MDS\": MDS, \"loss\": training_loss})"
   ],
   "outputs": [
    {
     "name": "stderr",
     "output_type": "stream",
     "text": [
      "100%|██████████| 10000/10000 [00:18<00:00, 552.85it/s]\n",
      "100%|██████████| 10000/10000 [00:18<00:00, 545.64it/s]\n",
      "100%|██████████| 10000/10000 [00:18<00:00, 540.16it/s]\n",
      "100%|██████████| 10000/10000 [00:18<00:00, 538.33it/s]\n",
      "100%|██████████| 10000/10000 [00:18<00:00, 544.54it/s]\n",
      "100%|██████████| 10000/10000 [00:18<00:00, 549.56it/s]\n",
      "100%|██████████| 10000/10000 [00:18<00:00, 540.26it/s]\n"
     ]
    }
   ],
   "execution_count": 8
  },
  {
   "metadata": {
    "ExecuteTime": {
     "end_time": "2024-08-19T21:38:48.818823Z",
     "start_time": "2024-08-19T21:38:48.798227Z"
    }
   },
   "cell_type": "code",
   "source": "np.min(MDS)",
   "id": "5ab52fe971e757f1",
   "outputs": [
    {
     "data": {
      "text/plain": [
       "Array(0.25573894, dtype=float32)"
      ]
     },
     "execution_count": 9,
     "metadata": {},
     "output_type": "execute_result"
    }
   ],
   "execution_count": 9
  },
  {
   "cell_type": "code",
   "id": "59077974-b4eb-412b-aae0-63459317b20a",
   "metadata": {
    "ExecuteTime": {
     "end_time": "2024-08-19T21:39:29.766906Z",
     "start_time": "2024-08-19T21:39:29.764028Z"
    }
   },
   "source": [
    "def training_panel(results, key):\n",
    "    f, ax = plt.subplots(2, len(results), figsize=(3*len(results), 5))\n",
    "    for i, r in enumerate(results):\n",
    "        ax[0, i].plot(r[\"loss\"])\n",
    "        ax[1, i].imshow(r[\"MDS\"], cmap=\"coolwarm\")#, vmin=-1, vmax=1)\n",
    "    plt.show()"
   ],
   "outputs": [],
   "execution_count": 17
  },
  {
   "cell_type": "code",
   "id": "16027ccd-73c1-4893-a2ca-242836baa607",
   "metadata": {
    "ExecuteTime": {
     "end_time": "2024-08-19T21:39:31.177045Z",
     "start_time": "2024-08-19T21:39:30.120144Z"
    }
   },
   "source": [
    "training_panel(results=gamma_results, key=\"gamma\")"
   ],
   "outputs": [
    {
     "data": {
      "text/plain": [
       "<Figure size 1512x360 with 14 Axes>"
      ],
      "image/png": "[encoded data removed]"
     },
     "metadata": {
      "needs_background": "light"
     },
     "output_type": "display_data"
    }
   ],
   "execution_count": 18
  },
  {
   "cell_type": "code",
   "id": "6bcd1b51-245b-40d9-b376-115e46dce780",
   "metadata": {
    "ExecuteTime": {
     "end_time": "2024-08-19T21:39:32.352968Z",
     "start_time": "2024-08-19T21:39:31.185312Z"
    }
   },
   "source": "training_panel(results=eta_results, key=\"eta\")\n",
   "outputs": [
    {
     "data": {
      "text/plain": [
       "<Figure size 1512x360 with 14 Axes>"
      ],
      "image/png": "[encoded data removed]"
     },
     "metadata": {
      "needs_background": "light"
     },
     "output_type": "display_data"
    }
   ],
   "execution_count": 19
  },
  {
   "cell_type": "code",
   "id": "6d4fed84-b50a-41ac-8aa1-12ba6f2c247f",
   "metadata": {
    "ExecuteTime": {
     "end_time": "2024-08-19T21:38:52.466532Z",
     "start_time": "2024-08-19T21:38:52.465156Z"
    }
   },
   "source": [],
   "outputs": [],
   "execution_count": null
  },
  {
   "metadata": {
    "ExecuteTime": {
     "end_time": "2024-08-19T21:38:52.509637Z",
     "start_time": "2024-08-19T21:38:52.508101Z"
    }
   },
   "cell_type": "code",
   "source": "",
   "id": "a7f18e31c574f3e1",
   "outputs": [],
   "execution_count": null
  }
 ],
 "metadata": {
  "kernelspec": {
   "display_name": "Python 3 (ipykernel)",
   "language": "python",
   "name": "python3"
  },
  "language_info": {
   "codemirror_mode": {
    "name": "ipython",
    "version": 3
   },
   "file_extension": ".py",
   "mimetype": "text/x-python",
   "name": "python",
   "nbconvert_exporter": "python",
   "pygments_lexer": "ipython3",
   "version": "3.11.4"
  }
 },
 "nbformat": 4,
 "nbformat_minor": 5
}
