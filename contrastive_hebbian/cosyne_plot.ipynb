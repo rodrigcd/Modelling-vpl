{
 "cells": [
  {
   "cell_type": "code",
   "execution_count": 1,
   "id": "6c338e5d-fb2e-457d-a51a-d5557db07c57",
   "metadata": {},
   "outputs": [],
   "source": [
    "import numpy as np\n",
    "import matplotlib.pyplot as plt\n",
    "import glob\n",
    "import pandas as pd"
   ]
  },
  {
   "cell_type": "code",
   "execution_count": 2,
   "id": "6392de51-cf24-4c49-a6c5-5da2634ce55c",
   "metadata": {},
   "outputs": [
    {
     "data": {
      "text/plain": [
       "['local_results/contrastive_run_8.pkl',\n",
       " 'local_results/contrastive_run_7.pkl',\n",
       " 'local_results/contrastive_run_0.pkl',\n",
       " 'local_results/contrastive_run_1.pkl',\n",
       " 'local_results/contrastive_run_2.pkl',\n",
       " 'local_results/contrastive_run_4.pkl',\n",
       " 'local_results/contrastive_run_6.pkl',\n",
       " 'local_results/contrastive_run_9.pkl',\n",
       " 'local_results/contrastive_run_3.pkl',\n",
       " 'local_results/contrastive_run_5.pkl']"
      ]
     },
     "execution_count": 2,
     "metadata": {},
     "output_type": "execute_result"
    }
   ],
   "source": [
    "path_list = glob.glob(\"local_results/*\")\n",
    "path_list"
   ]
  },
  {
   "cell_type": "code",
   "execution_count": 3,
   "id": "ac7c642d-d7b8-4f24-8ff5-6b49b5b1d54b",
   "metadata": {},
   "outputs": [],
   "source": [
    "eg_data = pd.read_pickle(path_list[2])"
   ]
  },
  {
   "cell_type": "code",
   "execution_count": 4,
   "id": "d3880b7d-e893-498a-8321-9d03c9681442",
   "metadata": {},
   "outputs": [
    {
     "name": "stdout",
     "output_type": "stream",
     "text": [
      "dict_keys(['contrastive_hebb', 'gradient_descent', 'quasi_predictive', 'hebbian', 'anti_hebbian'])\n",
      "dict_keys(['RSM', 'loss', 'learned_W1', 'learned_W2', 'W1_grad', 'W2_grad', 'save_every', 'data', 'learning_rate', 'tuned_neurons_width'])\n",
      "RSM <class 'jaxlib.xla_extension.ArrayImpl'>\n",
      "loss <class 'list'>\n",
      "learned_W1 <class 'jaxlib.xla_extension.ArrayImpl'>\n",
      "learned_W2 <class 'jaxlib.xla_extension.ArrayImpl'>\n",
      "W1_grad <class 'list'>\n",
      "W2_grad <class 'list'>\n",
      "save_every <class 'int'>\n",
      "data <class 'angle_discrimination_task.AngleDiscriminationTask'>\n",
      "learning_rate <class 'float'>\n",
      "tuned_neurons_width <class 'int'>\n",
      "weight shape (2000, 40, 80)\n",
      "angles shape (80,)\n"
     ]
    }
   ],
   "source": [
    "print(eg_data.keys())\n",
    "print(eg_data[\"contrastive_hebb\"].keys())\n",
    "[print(key, type(val)) for key, val in eg_data[\"contrastive_hebb\"].items()]\n",
    "print(\"weight shape\", eg_data[\"contrastive_hebb\"][\"learned_W1\"].shape)\n",
    "print(\"angles shape\", eg_data[\"contrastive_hebb\"][\"data\"].angles.shape)"
   ]
  },
  {
   "cell_type": "code",
   "execution_count": 5,
   "id": "fb2692dd-6b2d-42f1-b2e2-e3eae270a4eb",
   "metadata": {},
   "outputs": [],
   "source": [
    "def compute_mean_func(path_list, model_key, func, func_kwargs):\n",
    "    all_quant = []\n",
    "    for path in all_list:\n",
    "        results = pd.read_pickle(path)[model_key]\n",
    "        all_quant.append(func(results))\n",
    "    all_quant = np.stack(all_quant, axis=0)\n",
    "    return np.mean(all_quant, axis=0)"
   ]
  },
  {
   "cell_type": "code",
   "execution_count": 6,
   "id": "96af64bc-fff8-4324-8615-64bcbaea471d",
   "metadata": {},
   "outputs": [],
   "source": [
    "def slope_PO_TO(results, normalize_tuning=True, weight_index=-1, TO=90.0):\n",
    "    W1 = np.array(results[\"learned_W1\"][weight_index, ...])\n",
    "    data = results[\"data\"]\n",
    "    \n",
    "    PO_index = np.argmax(W1, axis=1)\n",
    "    angles = data.angles\n",
    "    if normalize_tuning:\n",
    "        W1 = W1/np.amax(W1, axis=1)[:, np.newaxis]\n",
    "    \n",
    "    PO = angles[PO_index]\n",
    "    slopes = np.diff(np.concatenate([W1, W1[:, 1][:, np.newaxis]], axis=1), axis=1)\n",
    "    x_axis = PO - TO\n",
    "    TO_index = np.argmin(np.abs(angles-TO))\n",
    "    y_axis = np.abs(slopes[:, TO_index])\n",
    "    \n",
    "    sort_index = np.argsort(x_axis)\n",
    "    x_axis = x_axis[sort_index]\n",
    "    y_axis = y_axis[sort_index]\n",
    "    return x_axis, y_axis"
   ]
  },
  {
   "cell_type": "code",
   "execution_count": 7,
   "id": "9b4c5b56-fa39-4509-b55e-73fcfebc6fcb",
   "metadata": {},
   "outputs": [],
   "source": [
    "x_axis, naive_slopes = slope_PO_TO(eg_data[\"gradient_descent\"], weight_index=0)\n",
    "x_axis, expert_slopes = slope_PO_TO(eg_data[\"gradient_descent\"], weight_index=-1)"
   ]
  },
  {
   "cell_type": "code",
   "execution_count": 8,
   "id": "17f8d199-22d5-4339-bf5d-b851a54d19a9",
   "metadata": {},
   "outputs": [
    {
     "data": {
      "text/plain": [
       "[<matplotlib.lines.Line2D at 0x7f1d1066bfd0>]"
      ]
     },
     "execution_count": 8,
     "metadata": {},
     "output_type": "execute_result"
    },
    {
     "data": {
      "image/png": "[encoded data removed]",
      "text/plain": [
       "<Figure size 432x288 with 1 Axes>"
      ]
     },
     "metadata": {
      "needs_background": "light"
     },
     "output_type": "display_data"
    }
   ],
   "source": [
    "plt.plot(x_axis, naive_slopes, label=\"naive\")\n",
    "plt.plot(x_axis, expert_slopes, label=\"expert\")"
   ]
  },
  {
   "cell_type": "code",
   "execution_count": null,
   "id": "c70abba9-6bb0-4ee4-ac54-0cde5489cefe",
   "metadata": {},
   "outputs": [],
   "source": []
  }
 ],
 "metadata": {
  "kernelspec": {
   "display_name": "Python 3 (ipykernel)",
   "language": "python",
   "name": "python3"
  },
  "language_info": {
   "codemirror_mode": {
    "name": "ipython",
    "version": 3
   },
   "file_extension": ".py",
   "mimetype": "text/x-python",
   "name": "python",
   "nbconvert_exporter": "python",
   "pygments_lexer": "ipython3",
   "version": "3.11.4"
  }
 },
 "nbformat": 4,
 "nbformat_minor": 5
}
